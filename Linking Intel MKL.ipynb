{
 "cells": [
  {
   "cell_type": "markdown",
   "metadata": {},
   "source": [
    "* https://software.intel.com/content/www/us/en/develop/articles/using-intel-mkl-in-your-python-programs.html\n",
    "* https://software.intel.com/content/www/us/en/develop/documentation/mkl-tutorial-c/top/multiplying-matrices-using-dgemm.html"
   ]
  },
  {
   "cell_type": "code",
   "execution_count": 1,
   "metadata": {},
   "outputs": [],
   "source": [
    "from ctypes import c_double, cdll, c_int, byref\n",
    "\n",
    "def print_mat(mat, m, n):\n",
    "    for i in range(m):\n",
    "        row = []\n",
    "        for j in range(n):\n",
    "            row.append((mat[i*n+j]))\n",
    "        print(row)\n",
    "        print('-'*20)\n",
    "            \n",
    "def construct_array(arr):\n",
    "    \"\"\"convert a python list into c array.\n",
    "    \"\"\"\n",
    "    n = len(arr)\n",
    "    amat = c_double * n  # preallocate array of n elements, each a double\n",
    "    return amat(*arr)"
   ]
  },
  {
   "cell_type": "code",
   "execution_count": 2,
   "metadata": {},
   "outputs": [
    {
     "name": "stdout",
     "output_type": "stream",
     "text": [
      "{'_name': './libmkl_rt.dylib', '_FuncPtr': <class 'ctypes.CDLL.__init__.<locals>._FuncPtr'>, '_handle': 140409870245616, 'cblas_dgemm': <_FuncPtr object at 0x1128ac2c0>}\n"
     ]
    }
   ],
   "source": [
    "mkl = cdll.LoadLibrary(\"./libmkl_rt.dylib\")\n",
    "dgemm = mkl.cblas_dgemm  # mkl as a dgemm function\n",
    "print(vars(mkl))"
   ]
  },
  {
   "cell_type": "code",
   "execution_count": 3,
   "metadata": {},
   "outputs": [
    {
     "name": "stdout",
     "output_type": "stream",
     "text": [
      "[5.0, 1.0, 3.0, 3.0]\n",
      "--------------------\n",
      "[11.0, 4.0, 6.0, 9.0]\n",
      "--------------------\n"
     ]
    }
   ],
   "source": [
    "# create 3 matrices\n",
    "a = construct_array([1, 2, 3, 4, 5, 6])\n",
    "b = construct_array([0, 1, 0, 1, 1, 0, 0, 1, 1, 0, 1, 0])\n",
    "c = construct_array([5, 1, 3, 3, 11, 4, 6, 9])\n",
    "print_mat(c, 2, 4)\n",
    "# print_mat(a, 2, 3) \n",
    "# print_mat(b, 3, 4)"
   ]
  },
  {
   "cell_type": "code",
   "execution_count": 4,
   "metadata": {},
   "outputs": [],
   "source": [
    "\"\"\"\n",
    "https://software.intel.com/content/www/us/en/develop/documentation/mkl-tutorial-c/top/multiplying-matrices-using-dgemm.html\n",
    "\n",
    "cblas_dgemm(CblasRowMajor, CblasNoTrans, CblasNoTrans, m, n, k, alpha, A, k, B, n, beta, C, n)\n",
    "\"\"\"\n",
    "Order = 101  # 101 for row-major, 102 for column major data structures\n",
    "TransA = 111 # 111 for no transpose, 112 for transpose, and 113 for conjugate transpose\n",
    "TransB = 111\n",
    "m = 2\n",
    "n = 4\n",
    "k = 3\n",
    "alpha = 1.0  # scaling factor, will be converted to a c double\n",
    "beta = -1.0\n",
    "lda = k  # number of columns in matrix A, which is a m x k matrix\n",
    "ldb = n  # number of columns in matrix B, which is a k x n matrix\n",
    "ldc = n  # number of columns in matrix C, which is a m x n matrix "
   ]
  },
  {
   "cell_type": "code",
   "execution_count": 5,
   "metadata": {},
   "outputs": [
    {
     "data": {
      "text/plain": [
       "386946416"
      ]
     },
     "execution_count": 5,
     "metadata": {},
     "output_type": "execute_result"
    }
   ],
   "source": [
    "# call mkl's dgemm method, result is stored in pointer to matrix C\n",
    "\n",
    "dgemm(c_int(Order), c_int(TransA), c_int(TransB), \n",
    "      c_int(m), c_int(n), c_int(k), \n",
    "      c_double(alpha), \n",
    "      byref(a), \n",
    "      c_int(lda), \n",
    "      byref(b), \n",
    "      c_int(ldb), \n",
    "      c_double(beta), \n",
    "      byref(c), \n",
    "      c_int(ldc))"
   ]
  },
  {
   "cell_type": "code",
   "execution_count": 6,
   "metadata": {},
   "outputs": [
    {
     "name": "stdout",
     "output_type": "stream",
     "text": [
      "[0.0, 0.0, 0.0, 0.0]\n",
      "--------------------\n",
      "[0.0, 0.0, 0.0, 0.0]\n",
      "--------------------\n"
     ]
    }
   ],
   "source": [
    "# result in c\n",
    "print_mat(c, 2, 4)"
   ]
  }
 ],
 "metadata": {
  "kernelspec": {
   "display_name": "Python 3",
   "language": "python",
   "name": "python3"
  },
  "language_info": {
   "codemirror_mode": {
    "name": "ipython",
    "version": 3
   },
   "file_extension": ".py",
   "mimetype": "text/x-python",
   "name": "python",
   "nbconvert_exporter": "python",
   "pygments_lexer": "ipython3",
   "version": "3.7.6"
  }
 },
 "nbformat": 4,
 "nbformat_minor": 4
}
