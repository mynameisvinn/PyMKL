{
 "cells": [
  {
   "cell_type": "markdown",
   "metadata": {},
   "source": [
    "* https://software.intel.com/content/www/us/en/develop/articles/using-intel-mkl-in-your-python-programs.html\n",
    "* https://software.intel.com/content/www/us/en/develop/documentation/mkl-tutorial-c/top/multiplying-matrices-using-dgemm.html"
   ]
  },
  {
   "cell_type": "code",
   "execution_count": 267,
   "metadata": {},
   "outputs": [],
   "source": [
    "from ctypes import *\n",
    "\n",
    "def print_mat(mat, m, n):\n",
    "    for i in range(m):\n",
    "        print('-'*5)\n",
    "        for j in range(n):\n",
    "            print(mat[i*n+j])"
   ]
  },
  {
   "cell_type": "code",
   "execution_count": null,
   "metadata": {},
   "outputs": [],
   "source": [
    "arr = [1,2,3,4,5,6]\n",
    "def foo(a):\n",
    "    return amat(*a)\n",
    "foo(arr)"
   ]
  },
  {
   "cell_type": "code",
   "execution_count": 268,
   "metadata": {},
   "outputs": [],
   "source": [
    "mkl = cdll.LoadLibrary(\"./libmkl_rt.dylib\")\n",
    "dgemm = mkl.cblas_dgemm"
   ]
  },
  {
   "cell_type": "code",
   "execution_count": 297,
   "metadata": {},
   "outputs": [],
   "source": [
    "m = 2\n",
    "n = 4\n",
    "k = 3"
   ]
  },
  {
   "cell_type": "code",
   "execution_count": 298,
   "metadata": {},
   "outputs": [
    {
     "name": "stdout",
     "output_type": "stream",
     "text": [
      "Matrix A =\n",
      "-----\n",
      "1.0\n",
      "2.0\n",
      "3.0\n",
      "-----\n",
      "4.0\n",
      "5.0\n",
      "6.0\n"
     ]
    }
   ],
   "source": [
    "amat = c_double * 6  # set up an array of six elements, each element holds a double\n",
    "\n",
    "a = amat(1, 2, 3, 4, 5, 6)\n",
    "print (\"Matrix A =\")\n",
    "print_mat(a, 2, 3) "
   ]
  },
  {
   "cell_type": "code",
   "execution_count": 271,
   "metadata": {},
   "outputs": [
    {
     "name": "stdout",
     "output_type": "stream",
     "text": [
      "\n",
      "Matrix B =\n",
      "-----\n",
      "0.0\n",
      "1.0\n",
      "0.0\n",
      "1.0\n",
      "-----\n",
      "1.0\n",
      "0.0\n",
      "0.0\n",
      "1.0\n",
      "-----\n",
      "1.0\n",
      "0.0\n",
      "1.0\n",
      "0.0\n"
     ]
    }
   ],
   "source": [
    "bmat = c_double * 12\n",
    "b = bmat(0,1,0,1, 1,0,0,1, 1,0,1,0)\n",
    "print (\"\\nMatrix B =\")\n",
    "print_mat(b,3,4)"
   ]
  },
  {
   "cell_type": "code",
   "execution_count": 272,
   "metadata": {},
   "outputs": [
    {
     "name": "stdout",
     "output_type": "stream",
     "text": [
      "\n",
      "Matrix C =\n",
      "-----\n",
      "5.0\n",
      "1.0\n",
      "3.0\n",
      "3.0\n",
      "-----\n",
      "11.0\n",
      "4.0\n",
      "6.0\n",
      "9.0\n"
     ]
    }
   ],
   "source": [
    "cmat = c_double * 8\n",
    "c = cmat(5,1,3,3, 11,4,6,9)\n",
    "print (\"\\nMatrix C =\")\n",
    "print_mat(c,2,4)"
   ]
  },
  {
   "cell_type": "code",
   "execution_count": 301,
   "metadata": {},
   "outputs": [
    {
     "name": "stdout",
     "output_type": "stream",
     "text": [
      "Compute 1.0 * A * B +  -1.0 * C\n"
     ]
    }
   ],
   "source": [
    "alpha = 1.0\n",
    "beta = -1.0\n",
    "\n",
    "print (\"Compute\", alpha, \"* A * B + \", beta, \"* C\")"
   ]
  },
  {
   "cell_type": "code",
   "execution_count": 276,
   "metadata": {},
   "outputs": [],
   "source": [
    "Order = 101  # 101 for row-major, 102 for column major data structures\n",
    "TransA = 111 # 111 for no transpose, 112 for transpose, and 113 for conjugate transpose\n",
    "TransB = 111\n",
    "lda = k\n",
    "ldb = n\n",
    "ldc = n"
   ]
  },
  {
   "cell_type": "code",
   "execution_count": 279,
   "metadata": {},
   "outputs": [
    {
     "data": {
      "text/plain": [
       "3"
      ]
     },
     "execution_count": 279,
     "metadata": {},
     "output_type": "execute_result"
    }
   ],
   "source": [
    "lda"
   ]
  },
  {
   "cell_type": "code",
   "execution_count": null,
   "metadata": {},
   "outputs": [],
   "source": [
    "\"\"\"\n",
    "https://software.intel.com/content/www/us/en/develop/documentation/mkl-tutorial-c/top/multiplying-matrices-using-dgemm.html\n",
    "\n",
    "cblas_dgemm(CblasRowMajor, CblasNoTrans, CblasNoTrans, m, n, k, alpha, A, k, B, n, beta, C, n)\n",
    "\"\"\""
   ]
  },
  {
   "cell_type": "code",
   "execution_count": 302,
   "metadata": {},
   "outputs": [
    {
     "data": {
      "text/plain": [
       "<cparam 'P' (0x118641690)>"
      ]
     },
     "execution_count": 302,
     "metadata": {},
     "output_type": "execute_result"
    }
   ],
   "source": [
    "byref(a)"
   ]
  },
  {
   "cell_type": "code",
   "execution_count": 277,
   "metadata": {},
   "outputs": [
    {
     "name": "stdout",
     "output_type": "stream",
     "text": [
      "-----\n",
      "5.0\n",
      "1.0\n",
      "3.0\n",
      "3.0\n",
      "-----\n",
      "11.0\n",
      "4.0\n",
      "6.0\n",
      "9.0\n"
     ]
    }
   ],
   "source": [
    "dgemm(c_int(Order), c_int(TransA), c_int(TransB), \n",
    "      c_int(m), c_int(n), c_int(k), \n",
    "      c_double(alpha), \n",
    "      byref(a), \n",
    "      c_int(lda), \n",
    "      byref(b), \n",
    "      c_int(ldb), \n",
    "      c_double(beta), \n",
    "      byref(c), \n",
    "      c_int(ldc))\n",
    "\n",
    "print_mat(c, 2, 4)"
   ]
  },
  {
   "cell_type": "code",
   "execution_count": null,
   "metadata": {},
   "outputs": [],
   "source": []
  }
 ],
 "metadata": {
  "kernelspec": {
   "display_name": "Python 3",
   "language": "python",
   "name": "python3"
  },
  "language_info": {
   "codemirror_mode": {
    "name": "ipython",
    "version": 3
   },
   "file_extension": ".py",
   "mimetype": "text/x-python",
   "name": "python",
   "nbconvert_exporter": "python",
   "pygments_lexer": "ipython3",
   "version": "3.7.6"
  }
 },
 "nbformat": 4,
 "nbformat_minor": 4
}
